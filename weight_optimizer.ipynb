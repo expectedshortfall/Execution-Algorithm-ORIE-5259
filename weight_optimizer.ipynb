{
  "nbformat": 4,
  "nbformat_minor": 0,
  "metadata": {
    "colab": {
      "provenance": []
    },
    "kernelspec": {
      "name": "python3",
      "display_name": "Python 3"
    },
    "language_info": {
      "name": "python"
    }
  },
  "cells": [
    {
      "cell_type": "markdown",
      "source": [
        "Please use this link, it direct to this notebook only! Will simplify the replication!\n",
        "\n",
        "https://colab.research.google.com/drive/11W242v0iD9L8klkXTFCN1-HM-vwX0_t2?usp=sharing\n",
        "\n"
      ],
      "metadata": {
        "id": "gsKBOMJvaztW"
      }
    },
    {
      "cell_type": "code",
      "execution_count": null,
      "metadata": {
        "id": "a2soxWkraErk"
      },
      "outputs": [],
      "source": [
        "import pandas as pd\n",
        "import numpy as np\n",
        "import optuna\n",
        "import matplotlib.pyplot as plt\n",
        "from collections import Counter"
      ]
    },
    {
      "cell_type": "markdown",
      "source": [
        "**The following code is used to optimize and find the best weights for the signals given a particular time based threshold. We are separately optimizing the signal weights for the buy and sell side. Our time thresholds are manual inputs based on the analysis from the execution plots on how and when does the trade actually happens.**"
      ],
      "metadata": {
        "id": "kWAdR8VBaiLy"
      }
    },
    {
      "cell_type": "markdown",
      "source": [
        "**Signals**"
      ],
      "metadata": {
        "id": "bLv9UXFIaUxX"
      }
    },
    {
      "cell_type": "code",
      "source": [
        "df = pd.read_csv(\"enter csv file name here\")\n",
        "df['mid_price'] = (df['ask price'] + df['bid price']) / 2\n",
        "df['momentum'] = df['mid_price'].diff(periods=50).fillna(0)\n",
        "df['datetime'] = pd.to_datetime(df['time'], unit='s', origin='unix')\n",
        "df.set_index('datetime', inplace=True)\n",
        "df.sort_index(inplace=True)\n",
        "df['minute'] = df.index.floor('min')\n",
        "df['spread'] = df['ask price'] - df['bid price']\n",
        "# Rolling quantile window changed to last 5 minutes\n",
        "window = '5min'\n",
        "df['spread_q10'] = df['spread'].rolling(window).quantile(0.1)\n",
        "df['volume_imbalance'] = (df['bid volume'] - df['ask volume']) / (df['bid volume'] + df['ask volume'] + 1e-6)\n",
        "df['vol_imb_q95'] = df['volume_imbalance'].rolling(window).quantile(0.95)\n",
        "df[\"trade_intensity\"] = df[\"order id\"].rolling('15s').count().values\n",
        "df['trade_intensity_q10'] = df['trade_intensity'].rolling(window).quantile(0.1)\n",
        "df[\"volume_curve_30s\"] = df[\"size\"].rolling(\"30s\").sum().fillna(0)\n",
        "df[\"volume_curve_baseline\"] = df[\"volume_curve_30s\"].rolling(\"5min\").mean()\n",
        "df[\"volume_curve_deviation\"] = df[\"volume_curve_30s\"] - df[\"volume_curve_baseline\"]\n",
        "df[\"volume_curve_deviation_q20\"] = df[\"volume_curve_deviation\"].rolling(window).quantile(0.2)\n",
        "df['vol_imb_q05'] = df['volume_imbalance'].rolling(window).quantile(0.05)\n",
        "df['momentum_q80'] = df['momentum'].rolling(window).quantile(0.80)\n",
        "df['momentum_q20'] = df['momentum'].rolling(window).quantile(0.20)\n",
        "# Aggression Ratio: Assuming aggressive trades impact either ask_volume or bid_volume\n",
        "# Changes in volume are aggressive if volume sharply decreases at bid/ask\n",
        "df[\"delta_ask_vol\"] = df[\"ask volume\"].diff()\n",
        "df[\"delta_bid_vol\"] = df[\"bid volume\"].diff()\n",
        "# Define aggressive trade as negative volume diff (market order hitting limit order)\n",
        "df[\"aggressive_trades\"] = ((df[\"delta_ask_vol\"] < 0).astype(int) + (df[\"delta_bid_vol\"] < 0).astype(int))\n",
        "# Rolling aggression ratio (number of aggressive ticks in recent ticks window)\n",
        "df[\"aggression_ratio\"] = df[\"aggressive_trades\"].rolling('30s').mean()\n",
        "df[\"aggression_ratio_q80\"] = df[\"aggression_ratio\"].rolling(window).quantile(0.8).fillna(0)"
      ],
      "metadata": {
        "id": "sBJragLoaG0o"
      },
      "execution_count": null,
      "outputs": []
    },
    {
      "cell_type": "markdown",
      "source": [
        "**Buy Weight Optimizer**"
      ],
      "metadata": {
        "id": "z3dJd5oUaSF5"
      }
    },
    {
      "cell_type": "code",
      "source": [
        "df['second'] = df.index.second\n",
        "def assign_zone(second):\n",
        "    if second < 15:\n",
        "        return '0–15s'\n",
        "    elif second < 30:\n",
        "        return '15–30s'\n",
        "    elif second < 45:\n",
        "        return '30–45s'\n",
        "    else:\n",
        "        return '45–59s'\n",
        "\n",
        "df['time_zone'] = df['second'].apply(assign_zone)\n",
        "\n",
        "zone_thresholds = {\n",
        "    '0–15s': add number here,\n",
        "    '15–30s': add number here,\n",
        "    '30–45s': add number here,\n",
        "    '45–59s': add number here\n",
        "}\n",
        "\n",
        "all_minutes = sorted(df['minute'].unique())\n",
        "\n",
        "def evaluate_buy_weights(w):\n",
        "    exec_prices, twap_prices = [], []\n",
        "\n",
        "    for current_minute in all_minutes:\n",
        "        minute_data = df[df['minute'] == current_minute]\n",
        "        if minute_data.empty:\n",
        "            continue\n",
        "\n",
        "        # TWAP price = first ask of the minute\n",
        "        first_sec_data = minute_data[minute_data.index.second == 0]\n",
        "        twap_price = first_sec_data.iloc[0]['ask price'] if not first_sec_data.empty else minute_data.iloc[0]['ask price']\n",
        "        executed = False\n",
        "\n",
        "        for _, row in minute_data.iterrows():\n",
        "            if row.name.second > 59:\n",
        "                continue\n",
        "\n",
        "            current_zone = row['time_zone']\n",
        "            threshold = zone_thresholds.get(current_zone, 3)\n",
        "\n",
        "            # === BUY-SIDE SIGNALS ===\n",
        "            signal_volume_imb = row['volume_imbalance'] > row['vol_imb_q95']\n",
        "            signal_spread = row['spread'] < row['spread_q10']\n",
        "            signal_momentum = row['momentum'] > row['momentum_q80']\n",
        "            signal_trade_intensity = row['trade_intensity'] < row['trade_intensity_q10']\n",
        "            signal_volume_curve_dev = row[\"volume_curve_deviation\"] < row[\"volume_curve_deviation_q20\"]\n",
        "            signal_agg = row[\"aggression_ratio\"] > row[\"aggression_ratio_q80\"]\n",
        "\n",
        "            signal_flags = [\n",
        "                w[0] * signal_volume_imb,\n",
        "                w[1] * signal_spread,\n",
        "                w[2] * signal_momentum,\n",
        "                w[3] * signal_trade_intensity,\n",
        "                w[4] * signal_volume_curve_dev,\n",
        "                w[5] * signal_agg\n",
        "            ]\n",
        "\n",
        "            if sum(signal_flags) > threshold:\n",
        "                exec_price = row['ask price']\n",
        "                executed = True\n",
        "                break\n",
        "\n",
        "        if not executed:\n",
        "            exec_price = minute_data.iloc[-1]['ask price']\n",
        "\n",
        "        exec_prices.append(exec_price)\n",
        "        twap_prices.append(twap_price)\n",
        "\n",
        "    exec_prices = np.array(exec_prices)\n",
        "    twap_prices = np.array(twap_prices)\n",
        "    return np.mean(twap_prices - exec_prices)  # Higher is better\n",
        "\n",
        "def objective_buy(trial):\n",
        "    weights = [trial.suggest_int(f'bw{i}', 0, 4) for i in range(6)]\n",
        "    avg_improvement = evaluate_buy_weights(weights)\n",
        "    return -avg_improvement  # Optuna minimizes\n",
        "\n",
        "print(\"🔍 Optimizing BUY-side Weights...\")\n",
        "study_buy = optuna.create_study(direction='minimize')\n",
        "study_buy.optimize(objective_buy, n_trials=200)\n",
        "\n",
        "best_buy_weights = [study_buy.best_params[f'bw{i}'] for i in range(6)]\n",
        "best_buy_score = -study_buy.best_value\n",
        "\n",
        "print(f\"\\nBest BUY-side Weights: {best_buy_weights}\")\n",
        "print(f\"Avg Price Improvement (TWAP - Exec): {best_buy_score:.6f}\")"
      ],
      "metadata": {
        "id": "vWtwUO5maJvv"
      },
      "execution_count": null,
      "outputs": []
    },
    {
      "cell_type": "markdown",
      "source": [
        "**Sell Weight Optimizer**"
      ],
      "metadata": {
        "id": "ucwkDpdpaPG9"
      }
    },
    {
      "cell_type": "code",
      "source": [
        "df['second'] = df.index.second\n",
        "def assign_zone(second):\n",
        "    if second < 15:\n",
        "        return '0–15s'\n",
        "    elif second < 30:\n",
        "        return '15–30s'\n",
        "    elif second < 45:\n",
        "        return '30–45s'\n",
        "    else:\n",
        "        return '45–59s'\n",
        "\n",
        "df['time_zone'] = df['second'].apply(assign_zone)\n",
        "\n",
        "zone_thresholds = {\n",
        "    '0–15s': add number here,\n",
        "    '15–30s': add number here,\n",
        "    '30–45s': add number here,\n",
        "    '45–59s': add number here\n",
        "}\n",
        "\n",
        "all_minutes = sorted(df['minute'].unique())\n",
        "\n",
        "def evaluate_sell_weights(w):\n",
        "    exec_prices, twap_prices = [], []\n",
        "\n",
        "    for current_minute in all_minutes:\n",
        "        minute_data = df[df['minute'] == current_minute]\n",
        "        if minute_data.empty:\n",
        "            continue\n",
        "\n",
        "        # TWAP price = first bid of the minute\n",
        "        first_sec_data = minute_data[minute_data.index.second == 0]\n",
        "        twap_price = first_sec_data.iloc[0]['bid price'] if not first_sec_data.empty else minute_data.iloc[0]['bid price']\n",
        "        executed = False\n",
        "\n",
        "        for _, row in minute_data.iterrows():\n",
        "            if row.name.second > 59:\n",
        "                continue\n",
        "\n",
        "            current_zone = row['time_zone']\n",
        "            threshold = zone_thresholds.get(current_zone, 3)\n",
        "\n",
        "            # === SELL-SIDE SIGNALS ===\n",
        "            signal_volume_imb = row['volume_imbalance'] < row['vol_imb_q05']\n",
        "            signal_spread = row['spread'] < row['spread_q10']\n",
        "            signal_momentum = row['momentum'] < row['momentum_q20']\n",
        "            signal_trade_intensity = row['trade_intensity'] < row['trade_intensity_q10']\n",
        "            signal_volume_curve_dev = row[\"volume_curve_deviation\"] < row[\"volume_curve_deviation_q20\"]\n",
        "            signal_agg = row[\"aggression_ratio\"] > row[\"aggression_ratio_q80\"]\n",
        "\n",
        "            signal_flags = [\n",
        "                w[0] * signal_volume_imb,\n",
        "                w[1] * signal_spread,\n",
        "                w[2] * signal_momentum,\n",
        "                w[3] * signal_trade_intensity,\n",
        "                w[4] * signal_volume_curve_dev,\n",
        "                w[5] * signal_agg\n",
        "            ]\n",
        "\n",
        "            if sum(signal_flags) > threshold:\n",
        "                exec_price = row['bid price']\n",
        "                executed = True\n",
        "                break\n",
        "\n",
        "        if not executed:\n",
        "            exec_price = minute_data.iloc[-1]['bid price']\n",
        "\n",
        "        exec_prices.append(exec_price)\n",
        "        twap_prices.append(twap_price)\n",
        "\n",
        "    exec_prices = np.array(exec_prices)\n",
        "    twap_prices = np.array(twap_prices)\n",
        "    return np.mean(exec_prices - twap_prices)  # Higher is better\n",
        "\n",
        "def objective_sell(trial):\n",
        "    weights = [trial.suggest_int(f'sw{i}', 0, 4) for i in range(6)]\n",
        "    avg_improvement = evaluate_sell_weights(weights)\n",
        "    return -avg_improvement\n",
        "\n",
        "print(\"🔍 Optimizing SELL-side Weights...\")\n",
        "study_sell = optuna.create_study(direction='minimize')\n",
        "study_sell.optimize(objective_sell, n_trials=200)\n",
        "\n",
        "best_sell_weights = [study_sell.best_params[f'sw{i}'] for i in range(6)]\n",
        "best_sell_score = -study_sell.best_value\n",
        "\n",
        "print(f\"\\nBest SELL-side Weights: {best_sell_weights}\")\n",
        "print(f\"Avg Price Improvement (Exec - TWAP): {best_sell_score:.6f}\")\n"
      ],
      "metadata": {
        "id": "65Wz6UX5aONc"
      },
      "execution_count": null,
      "outputs": []
    }
  ]
}